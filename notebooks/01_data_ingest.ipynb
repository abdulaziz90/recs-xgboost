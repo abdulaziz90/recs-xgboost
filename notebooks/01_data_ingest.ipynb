{
 "cells": [
  {
   "cell_type": "markdown",
   "id": "96260066-ff04-4ae6-8766-d5f01bcec7f0",
   "metadata": {},
   "source": [
    "# 01_data_ingest.ipynb\n",
    "\n",
    "**Ingest RECS 2020 CSV into S3**\n",
    "\n",
    "This notebook downloads the 2020 Residential Energy Consumption Survey (RECS) CSV from the U.S. EIA website, initializes an AWS SageMaker session, and uploads the raw data file into your S3 bucket under a configurable prefix. Once complete, downstream steps can read the data directly from S3."
   ]
  },
  {
   "cell_type": "code",
   "execution_count": 7,
   "id": "b164a50f-edd2-424c-9838-90eb29ef14ca",
   "metadata": {},
   "outputs": [],
   "source": [
    "import sagemaker\n",
    "import boto3"
   ]
  },
  {
   "cell_type": "code",
   "execution_count": 8,
   "id": "805b18ec-868f-4a58-8f6d-bd747663455d",
   "metadata": {},
   "outputs": [
    {
     "name": "stdout",
     "output_type": "stream",
     "text": [
      "sagemaker-us-east-1-039774476556\n"
     ]
    }
   ],
   "source": [
    "sess = sagemaker.Session()\n",
    "bucket = sess.default_bucket()\n",
    "print(bucket)\n"
   ]
  },
  {
   "cell_type": "code",
   "execution_count": 11,
   "id": "f8e5f111-ad05-459c-9269-a99632e9b2bd",
   "metadata": {},
   "outputs": [
    {
     "name": "stdout",
     "output_type": "stream",
     "text": [
      "--2025-04-21 09:33:49--  https://www.eia.gov/consumption/residential/data/2020/csv/recs2020_public_v3.csv\n",
      "Resolving www.eia.gov (www.eia.gov)... 104.95.234.205, 2600:1408:5400:586::b93, 2600:1408:5400:584::b93\n",
      "Connecting to www.eia.gov (www.eia.gov)|104.95.234.205|:443... connected.\n",
      "ERROR: cannot verify www.eia.gov's certificate, issued by ‘CN=GeoTrust RSA CA 2018,OU=www.digicert.com,O=DigiCert Inc,C=US’:\n",
      "  Unable to locally verify the issuer's authority.\n",
      "To connect to www.eia.gov insecurely, use `--no-check-certificate'.\n",
      "✅ Uploaded to s3://sagemaker-us-east-1-039774476556/recs/recs2020.csv\n"
     ]
    }
   ],
   "source": [
    "prefix = \"recs\"\n",
    "\n",
    "# Download CSV (only need to do this once)\n",
    "!wget -O recs2020.csv \"https://www.eia.gov/consumption/residential/data/2020/csv/recs2020_public_v3.csv\"\n",
    "\n",
    "# Upload to your real bucket\n",
    "boto3.client(\"s3\").upload_file(\n",
    "    \"recs2020.csv\",\n",
    "    bucket,\n",
    "    f\"{prefix}/recs2020.csv\"\n",
    ")\n",
    "\n",
    "print(f\"✅ Uploaded to s3://{bucket}/{prefix}/recs2020.csv\")\n"
   ]
  }
 ],
 "metadata": {
  "kernelspec": {
   "display_name": "Python 3 (ipykernel)",
   "language": "python",
   "name": "python3"
  },
  "language_info": {
   "codemirror_mode": {
    "name": "ipython",
    "version": 3
   },
   "file_extension": ".py",
   "mimetype": "text/x-python",
   "name": "python",
   "nbconvert_exporter": "python",
   "pygments_lexer": "ipython3",
   "version": "3.12.9"
  }
 },
 "nbformat": 4,
 "nbformat_minor": 5
}
