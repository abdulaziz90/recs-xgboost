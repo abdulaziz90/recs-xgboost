{
 "cells": [
  {
   "cell_type": "code",
   "execution_count": 1,
   "id": "a7dd82a1-67bf-4d9d-bb9a-9adc19eb9ebf",
   "metadata": {},
   "outputs": [
    {
     "name": "stdout",
     "output_type": "stream",
     "text": [
      "Writing serve_flask.py\n"
     ]
    }
   ],
   "source": [
    "%%writefile serve_flask.py\n",
    "from flask import Flask, request, jsonify\n",
    "import xgboost as xgb\n",
    "import pandas as pd\n",
    "import numpy as np\n",
    "import os\n",
    "\n",
    "app = Flask(__name__)\n",
    "\n",
    "# Load the model at startup\n",
    "MODEL_PATH = \"model.bst\"\n",
    "if not os.path.exists(MODEL_PATH):\n",
    "    raise FileNotFoundError(f\"Missing {MODEL_PATH}\")\n",
    "bst = xgb.Booster()\n",
    "bst.load_model(MODEL_PATH)\n",
    "\n",
    "@app.route(\"/predict\", methods=[\"POST\"])\n",
    "def predict():\n",
    "    data = request.get_json()              # expect JSON array of dicts\n",
    "    df = pd.DataFrame(data)\n",
    "    dmat = xgb.DMatrix(df)\n",
    "    preds_log = bst.predict(dmat)\n",
    "    preds = np.expm1(preds_log)            # invert log1p\n",
    "    return jsonify(predictions=preds.tolist())\n",
    "\n",
    "if __name__ == \"__main__\":\n",
    "    # for notebook demos, enable reloader off or on as you like\n",
    "    app.run(host=\"0.0.0.0\", port=8080, debug=True)"
   ]
  },
  {
   "cell_type": "code",
   "execution_count": null,
   "id": "6d1eaa88-3bad-49e7-aa2e-a4137b3a0e5a",
   "metadata": {},
   "outputs": [
    {
     "name": "stdout",
     "output_type": "stream",
     "text": [
      " * Serving Flask app 'serve_flask'\n",
      " * Debug mode: on\n",
      "\u001b[31m\u001b[1mWARNING: This is a development server. Do not use it in a production deployment. Use a production WSGI server instead.\u001b[0m\n",
      " * Running on all addresses (0.0.0.0)\n",
      " * Running on http://127.0.0.1:8080\n",
      " * Running on http://169.255.255.2:8080\n",
      "\u001b[33mPress CTRL+C to quit\u001b[0m\n",
      " * Restarting with stat\n",
      " * Debugger is active!\n",
      " * Debugger PIN: 478-491-613\n",
      "127.0.0.1 - - [22/Apr/2025 20:18:53] \"POST /predict HTTP/1.1\" 200 -\n"
     ]
    }
   ],
   "source": [
    "# !pip install flask xgboost pandas numpy        # only once, if needed\n",
    "!python serve_flask.py"
   ]
  },
  {
   "cell_type": "code",
   "execution_count": null,
   "id": "599aaa7c-a652-4a19-93fd-724fc823ce8f",
   "metadata": {},
   "outputs": [],
   "source": [
    "!nohup python serve_flask.py &> flask.log &"
   ]
  }
 ],
 "metadata": {
  "kernelspec": {
   "display_name": "Python 3 (ipykernel)",
   "language": "python",
   "name": "python3"
  },
  "language_info": {
   "codemirror_mode": {
    "name": "ipython",
    "version": 3
   },
   "file_extension": ".py",
   "mimetype": "text/x-python",
   "name": "python",
   "nbconvert_exporter": "python",
   "pygments_lexer": "ipython3",
   "version": "3.12.9"
  }
 },
 "nbformat": 4,
 "nbformat_minor": 5
}
