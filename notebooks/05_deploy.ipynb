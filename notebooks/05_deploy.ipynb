{
 "cells": [
  {
   "cell_type": "markdown",
   "id": "f3a61333-cc93-4c32-9edd-b74aa1d37790",
   "metadata": {},
   "source": [
    "# 05_deploy.ipynb\n",
    "\n",
    "**Batch Inference Demo via Flask Endpoint**\n",
    "\n",
    "This notebook loads a small sample of the test set from S3, converts it to JSON, and sends it to your locally‐running Flask‐based `/predict` endpoint. It then prints out the returned array of predicted annual electricity usages."
   ]
  },
  {
   "cell_type": "code",
   "execution_count": 2,
   "id": "b8727cf0-9fe4-44bd-995d-1451e9c4e228",
   "metadata": {},
   "outputs": [
    {
     "name": "stdout",
     "output_type": "stream",
     "text": [
      "{'predictions': [4979.5048828125, 19953.9921875, 5646.560546875, 15137.8427734375, 23397.421875, 7680.72900390625, 10778.5087890625, 6094.0478515625, 3698.609130859375, 13222.3369140625]}\n"
     ]
    }
   ],
   "source": [
    "import requests, pandas as pd\n",
    "from sagemaker import Session\n",
    "import numpy as np\n",
    "\n",
    "sess   = Session()\n",
    "bucket = sess.default_bucket()\n",
    "prefix = \"recs\"\n",
    "\n",
    "X_test = pd.read_parquet(f\"s3://{bucket}/{prefix}/test/X_test.parquet\")\n",
    "\n",
    "# pick a small sample\n",
    "df = X_test.head(10)\n",
    "\n",
    "# convert any NaNs to Python None (which serializes to JSON null)\n",
    "df = df.where(pd.notnull(df), None)\n",
    "\n",
    "records = df.to_dict(orient=\"records\")\n",
    "\n",
    "resp = requests.post(\n",
    "    \"http://127.0.0.1:8080/predict\",\n",
    "    json=records,\n",
    "    headers={\"Content-Type\": \"application/json\"},\n",
    ")\n",
    "resp.raise_for_status()\n",
    "print(resp.json())"
   ]
  }
 ],
 "metadata": {
  "kernelspec": {
   "display_name": "Python 3 (ipykernel)",
   "language": "python",
   "name": "python3"
  },
  "language_info": {
   "codemirror_mode": {
    "name": "ipython",
    "version": 3
   },
   "file_extension": ".py",
   "mimetype": "text/x-python",
   "name": "python",
   "nbconvert_exporter": "python",
   "pygments_lexer": "ipython3",
   "version": "3.12.9"
  }
 },
 "nbformat": 4,
 "nbformat_minor": 5
}
